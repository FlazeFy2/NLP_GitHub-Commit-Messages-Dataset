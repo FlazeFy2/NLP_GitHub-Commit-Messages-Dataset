{
 "cells": [
  {
   "cell_type": "code",
   "execution_count": 1,
   "id": "4825758e-0779-45f5-9ec1-947470feb27c",
   "metadata": {},
   "outputs": [
    {
     "name": "stdout",
     "output_type": "stream",
     "text": [
      "Author Email Type\n",
      "Unknown          3749922\n",
      "Gmail             497509\n",
      "Private Email      79081\n",
      "Outlook             6268\n",
      "Yahoo               3519\n",
      "Name: count, dtype: int64\n"
     ]
    }
   ],
   "source": [
    "import pandas as pd\n",
    "\n",
    "# Descriptive Statistic - Email Type Using In Commit\n",
    "df = pd.read_csv(\"full.csv\")\n",
    "\n",
    "# Extract Email Type From Author Commit\n",
    "def extract_email_type(author):\n",
    "    author = author.lower()\n",
    "\n",
    "    if \"@users.noreply.github.com\" in author:\n",
    "        return \"Private Email\"\n",
    "    elif \"@gmail.com\" in author:\n",
    "        return \"Gmail\"\n",
    "    elif \"@yahoo.com\" in author:\n",
    "        return \"Yahoo\"\n",
    "    elif \"@outlook.com\" in author:\n",
    "        return \"Outlook\"\n",
    "    else:\n",
    "        return \"Unknown\"\n",
    "\n",
    "df['Author Email Type'] = df['author'].apply(extract_email_type)\n",
    "\n",
    "# Count Occurrences\n",
    "email_counts = df['Author Email Type'].value_counts()\n",
    "print(email_counts)"
   ]
  },
  {
   "cell_type": "code",
   "execution_count": 5,
   "id": "e1411e78-9ad9-4a61-853e-14e09fe07b7c",
   "metadata": {},
   "outputs": [
    {
     "name": "stdout",
     "output_type": "stream",
     "text": [
      "Timezone\n",
      "+0000    2060543\n",
      "-0700     627215\n",
      "-0800     347714\n",
      "+0200     320798\n",
      "+0100     287057\n",
      "-0400     156506\n",
      "-0500     128272\n",
      "+0800      91295\n",
      "+0300      75476\n",
      "+0900      50249\n",
      "+0530      46481\n",
      "-0300      38877\n",
      "-0600      37784\n",
      "+1000      25150\n",
      "+0400      13255\n",
      "+1100      13168\n",
      "-0200       4948\n",
      "+0700       2796\n",
      "-1000       1873\n",
      "+1200       1835\n",
      "+1300       1779\n",
      "+1030       1088\n",
      "+0930        791\n",
      "+0500        698\n",
      "+0600        294\n",
      "+0430        130\n",
      "+0330         76\n",
      "+0545         46\n",
      "-0900         27\n",
      "+0206         26\n",
      "-1100         13\n",
      "-0230          9\n",
      "+0106          9\n",
      "-0100          8\n",
      "-0430          4\n",
      "+1400          3\n",
      "-0330          3\n",
      "+0159          2\n",
      "+0630          1\n",
      "Name: count, dtype: int64\n"
     ]
    }
   ],
   "source": [
    "import pandas as pd\n",
    "import re\n",
    "\n",
    "# Descriptive Statistic - Count Total Commit By Timezone\n",
    "df = pd.read_csv(\"full.csv\")\n",
    "\n",
    "# Extract Timezone From Date\n",
    "def extract_timezone(date_str):\n",
    "    if isinstance(date_str, str):\n",
    "        match = re.search(r'[-+]\\d{4}', date_str)\n",
    "        if match:\n",
    "            return match.group()\n",
    "    return 'unknown'\n",
    "\n",
    "df['Timezone'] = df['date'].apply(extract_timezone)\n",
    "\n",
    "# Count occurrences\n",
    "timezone_counts = df['Timezone'].value_counts()\n",
    "print(timezone_counts)"
   ]
  },
  {
   "cell_type": "code",
   "execution_count": null,
   "id": "995331a8-f53f-4eb1-bf0e-0324f4dd4d54",
   "metadata": {},
   "outputs": [],
   "source": []
  }
 ],
 "metadata": {
  "kernelspec": {
   "display_name": "Python [conda env:base] *",
   "language": "python",
   "name": "conda-base-py"
  },
  "language_info": {
   "codemirror_mode": {
    "name": "ipython",
    "version": 3
   },
   "file_extension": ".py",
   "mimetype": "text/x-python",
   "name": "python",
   "nbconvert_exporter": "python",
   "pygments_lexer": "ipython3",
   "version": "3.12.7"
  }
 },
 "nbformat": 4,
 "nbformat_minor": 5
}
