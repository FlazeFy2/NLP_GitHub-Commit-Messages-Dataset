{
 "cells": [
  {
   "cell_type": "code",
   "execution_count": 1,
   "id": "4825758e-0779-45f5-9ec1-947470feb27c",
   "metadata": {},
   "outputs": [
    {
     "name": "stdout",
     "output_type": "stream",
     "text": [
      "Author Email Type\n",
      "Unknown          3749922\n",
      "Gmail             497509\n",
      "Private Email      79081\n",
      "Outlook             6268\n",
      "Yahoo               3519\n",
      "Name: count, dtype: int64\n"
     ]
    }
   ],
   "source": [
    "import pandas as pd\n",
    "from datetime import datetime\n",
    "\n",
    "# Descriptive Statistic - Email Type Using In Commit\n",
    "df = pd.read_csv(\"full.csv\")\n",
    "\n",
    "# Extract Email Type From Author Commit\n",
    "def extract_email_type(author):\n",
    "    author = author.lower()\n",
    "\n",
    "    if \"@users.noreply.github.com\" in author:\n",
    "        return \"Private Email\"\n",
    "    elif \"@gmail.com\" in author:\n",
    "        return \"Gmail\"\n",
    "    elif \"@yahoo.com\" in author:\n",
    "        return \"Yahoo\"\n",
    "    elif \"@outlook.com\" in author:\n",
    "        return \"Outlook\"\n",
    "    else:\n",
    "        return \"Unknown\"\n",
    "\n",
    "df['Author Email Type'] = df['author'].apply(extract_email_type)\n",
    "\n",
    "# Count Occurrences\n",
    "email_counts = df['Author Email Type'].value_counts().fillna(0)\n",
    "print(email_counts)"
   ]
  },
  {
   "cell_type": "code",
   "execution_count": null,
   "id": "e1411e78-9ad9-4a61-853e-14e09fe07b7c",
   "metadata": {},
   "outputs": [],
   "source": []
  }
 ],
 "metadata": {
  "kernelspec": {
   "display_name": "Python [conda env:base] *",
   "language": "python",
   "name": "conda-base-py"
  },
  "language_info": {
   "codemirror_mode": {
    "name": "ipython",
    "version": 3
   },
   "file_extension": ".py",
   "mimetype": "text/x-python",
   "name": "python",
   "nbconvert_exporter": "python",
   "pygments_lexer": "ipython3",
   "version": "3.12.7"
  }
 },
 "nbformat": 4,
 "nbformat_minor": 5
}
