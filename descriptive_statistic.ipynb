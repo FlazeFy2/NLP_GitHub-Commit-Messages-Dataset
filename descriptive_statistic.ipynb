{
 "cells": [
  {
   "cell_type": "code",
   "execution_count": 1,
   "id": "4825758e-0779-45f5-9ec1-947470feb27c",
   "metadata": {},
   "outputs": [
    {
     "name": "stdout",
     "output_type": "stream",
     "text": [
      "Author Email Type\n",
      "Unknown          3749922\n",
      "Gmail             497509\n",
      "Private Email      79081\n",
      "Outlook             6268\n",
      "Yahoo               3519\n",
      "Name: count, dtype: int64\n"
     ]
    }
   ],
   "source": [
    "import pandas as pd\n",
    "\n",
    "# Descriptive Statistic - Email Type Using In Commit\n",
    "df = pd.read_csv(\"full.csv\")\n",
    "\n",
    "# Extract Email Type From Author Commit\n",
    "def extract_email_type(author):\n",
    "    author = author.lower()\n",
    "\n",
    "    if \"@users.noreply.github.com\" in author:\n",
    "        return \"Private Email\"\n",
    "    elif \"@gmail.com\" in author:\n",
    "        return \"Gmail\"\n",
    "    elif \"@yahoo.com\" in author:\n",
    "        return \"Yahoo\"\n",
    "    elif \"@outlook.com\" in author:\n",
    "        return \"Outlook\"\n",
    "    else:\n",
    "        return \"Unknown\"\n",
    "\n",
    "df['Author Email Type'] = df['author'].apply(extract_email_type)\n",
    "\n",
    "# Count Occurrences\n",
    "email_counts = df['Author Email Type'].value_counts()\n",
    "print(email_counts)"
   ]
  },
  {
   "cell_type": "code",
   "execution_count": 5,
   "id": "e1411e78-9ad9-4a61-853e-14e09fe07b7c",
   "metadata": {},
   "outputs": [
    {
     "name": "stdout",
     "output_type": "stream",
     "text": [
      "Timezone\n",
      "+0000    2060543\n",
      "-0700     627215\n",
      "-0800     347714\n",
      "+0200     320798\n",
      "+0100     287057\n",
      "-0400     156506\n",
      "-0500     128272\n",
      "+0800      91295\n",
      "+0300      75476\n",
      "+0900      50249\n",
      "+0530      46481\n",
      "-0300      38877\n",
      "-0600      37784\n",
      "+1000      25150\n",
      "+0400      13255\n",
      "+1100      13168\n",
      "-0200       4948\n",
      "+0700       2796\n",
      "-1000       1873\n",
      "+1200       1835\n",
      "+1300       1779\n",
      "+1030       1088\n",
      "+0930        791\n",
      "+0500        698\n",
      "+0600        294\n",
      "+0430        130\n",
      "+0330         76\n",
      "+0545         46\n",
      "-0900         27\n",
      "+0206         26\n",
      "-1100         13\n",
      "-0230          9\n",
      "+0106          9\n",
      "-0100          8\n",
      "-0430          4\n",
      "+1400          3\n",
      "-0330          3\n",
      "+0159          2\n",
      "+0630          1\n",
      "Name: count, dtype: int64\n"
     ]
    }
   ],
   "source": [
    "import pandas as pd\n",
    "import re\n",
    "\n",
    "# Descriptive Statistic - Count Total Commit By Timezone\n",
    "df = pd.read_csv(\"full.csv\")\n",
    "\n",
    "# Extract Timezone From Date\n",
    "def extract_timezone(date_str):\n",
    "    if isinstance(date_str, str):\n",
    "        match = re.search(r'[-+]\\d{4}', date_str)\n",
    "        if match:\n",
    "            return match.group()\n",
    "    return 'unknown'\n",
    "\n",
    "df['Timezone'] = df['date'].apply(extract_timezone)\n",
    "\n",
    "# Count occurrences\n",
    "timezone_counts = df['Timezone'].value_counts()\n",
    "print(timezone_counts)"
   ]
  },
  {
   "cell_type": "code",
   "execution_count": 1,
   "id": "995331a8-f53f-4eb1-bf0e-0324f4dd4d54",
   "metadata": {},
   "outputs": [
    {
     "name": "stdout",
     "output_type": "stream",
     "text": [
      "Repo Name\n",
      "linux           998326\n",
      "chromium        995884\n",
      "llvm-project    386114\n",
      "freebsd-src     258157\n",
      "src             212189\n",
      "gcc             184430\n",
      "rust            142093\n",
      "swift           119903\n",
      "cpython         109619\n",
      "tensorflow      109154\n",
      "kubernetes       99961\n",
      "vscode           80577\n",
      "v8               68575\n",
      "postgres         51334\n",
      "go               47713\n",
      "matplotlib       38649\n",
      "pytorch          35726\n",
      "rstudio          34681\n",
      "node             33535\n",
      "httpd            32515\n",
      "Name: count, dtype: int64\n"
     ]
    }
   ],
   "source": [
    "import pandas as pd\n",
    "import re\n",
    "\n",
    "# Descriptive Statistic - 20 Most Commited Repo\n",
    "df = pd.read_csv(\"full.csv\")\n",
    "\n",
    "# Extract Timezone From Date\n",
    "def extract_repo_name(repo):\n",
    "    if isinstance(repo, str) and '/' in repo:\n",
    "        return repo.split('/')[-1].strip() \n",
    "    return None\n",
    "\n",
    "df['Repo Name'] = df['repo'].apply(extract_repo_name)\n",
    "\n",
    "# Count occurrences\n",
    "timezone_counts = df['Repo Name'].value_counts()\n",
    "print(timezone_counts.head(20))"
   ]
  },
  {
   "cell_type": "code",
   "execution_count": null,
   "id": "9155824e-ebae-4016-9d50-0acba43d09e1",
   "metadata": {},
   "outputs": [],
   "source": []
  }
 ],
 "metadata": {
  "kernelspec": {
   "display_name": "Python [conda env:base] *",
   "language": "python",
   "name": "conda-base-py"
  },
  "language_info": {
   "codemirror_mode": {
    "name": "ipython",
    "version": 3
   },
   "file_extension": ".py",
   "mimetype": "text/x-python",
   "name": "python",
   "nbconvert_exporter": "python",
   "pygments_lexer": "ipython3",
   "version": "3.12.7"
  }
 },
 "nbformat": 4,
 "nbformat_minor": 5
}
